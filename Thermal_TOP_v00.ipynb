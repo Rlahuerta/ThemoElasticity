{
 "cells": [
  {
   "cell_type": "markdown",
   "metadata": {},
   "source": [
    "$\\newcommand{\\tensor}[1]{\\boldsymbol{#1}}$\n",
    "\n",
    "$\\newcommand{\\tensorthree}[1]{\\mathbfcal{#1}}$\n",
    "$\\newcommand{\\tensorfour}[1]{\\mathbb{#1}}$\n",
    "\n",
    "$\\newcommand{\\dar}{\\, \\text{d} a^r}$\n",
    "\n",
    "$\\newcommand{\\dvr}{\\, \\text{d} v^r}$\n",
    "$\\newcommand{\\dv}{\\, \\text{d} v}$\n",
    "\n",
    "$\\newcommand{\\dt}{\\, \\text{d} t}$\n",
    "$\\newcommand{\\dthe}{\\, \\text{d} \\theta}$\n",
    "\n",
    "$\\newcommand{\\tr}{\\operatorname{tr}}$\n",
    "\n",
    "## The nonlinear heat equation solver in FEniCS"
   ]
  },
  {
   "cell_type": "code",
   "execution_count": 1,
   "metadata": {},
   "outputs": [
    {
     "data": {
      "text/html": [
       "<img src=\"http://python.org/images/python-logo.gif\"/>"
      ],
      "text/plain": [
       "<IPython.core.display.Image object>"
      ]
     },
     "execution_count": 1,
     "metadata": {},
     "output_type": "execute_result"
    }
   ],
   "source": [
    "from IPython.display import display_pretty, display_html, display_jpeg, display_png, display_json, display_latex, display_svg\n",
    "\n",
    "from IPython.display import Image\n",
    "Image(url='http://python.org/images/python-logo.gif')"
   ]
  },
  {
   "cell_type": "markdown",
   "metadata": {},
   "source": [
    "### Functionals\n",
    "\n",
    "The total **deformation gradient** can be can be decomposed as: \n",
    "\n",
    "\\begin{equation}\n",
    "    \\tensor{F} = \\tensor{F}_e ~ \\tensor{F}_{\\theta}\n",
    "\\end{equation}\n",
    "\n",
    "The analysis restricted to isotropic materials, for which the thermal part of the deformation gradient is:\n",
    "\n",
    "\\begin{equation}\n",
    "    \\tensor{F}_{\\theta} = \\vartheta \\left( \\theta \\right) ~ \\tensor{I}\n",
    "\\end{equation}\n",
    "\n",
    "The scalar $\\theta = \\upsilon \\left( \\theta \\right)$ is the **thermal stretch ratio** in any material direction. In this case, the elastic and thermal Green strains become:\n",
    "\n",
    "\\begin{equation}\n",
    "    \\tensor{E}_{e} = \\frac{1}{\\vartheta^2} \\left( \\tensor{E} - \\tensor{E}_{\\theta} \\right), \\qquad \\tensor{E}_{\\theta} = \\frac{1}{2} \\left( \\vartheta^2 - 1 \\right) \\tensor{I}\n",
    "\\end{equation}\n",
    "\n",
    "The relationship holds:\n",
    "\n",
    "\\begin{equation}\n",
    "    \\tensor{I} + 2 \\tensor{E} = \\vartheta^2 \\left( \\tensor{I} + 2 \\tensor{E}_{e} \\right)\n",
    "\\end{equation}\n",
    "\n",
    "Since the thermal stretch ratio $\\vartheta$ and the coefficient of thermal expansion $\\alpha$ are related by\n",
    "\n",
    "\\begin{equation}\n",
    "    \\alpha \\left( \\theta \\right) = \\frac{1}{\\vartheta} \\frac{\\text{d} \\vartheta}{\\dthe} \n",
    "\\end{equation}\n",
    "\n",
    "the rate of elastic strain can be written as\n",
    "\n",
    "\\begin{equation}\n",
    "    \\dot{\\tensor{E}}_{e} = \\frac{1}{\\vartheta^2 \\left( \\theta \\right)} \\left[ \\dot{\\tensor{E}} - \\alpha \\left( \\theta \\right) \\left( \\tensor{I} + 2 \\tensor{E} \\right) \\dot{\\theta} \\right]\n",
    "\\end{equation}\n",
    "\n"
   ]
  },
  {
   "cell_type": "markdown",
   "metadata": {
    "collapsed": true
   },
   "source": [
    "### Stress Response\n",
    "\n",
    "Within the model of the multiplicative decomposition, the Helmholtz free energy can be conveniently split into two\n",
    "parts:\n",
    "\n",
    "\\begin{equation}\n",
    "    {\\varphi} \\left( \\tensor{u}, \\theta \\right) = {\\varphi}_{e} \\left( \\tensor{E}_{e}, \\theta \\right) + {\\varphi}_{\\theta} \\left( \\theta \\right)\n",
    "\\end{equation}"
   ]
  },
  {
   "cell_type": "code",
   "execution_count": null,
   "metadata": {
    "collapsed": true
   },
   "outputs": [],
   "source": []
  },
  {
   "cell_type": "markdown",
   "metadata": {},
   "source": [
    "where ${\\varphi}_{e}$ is an isotropic function of the elastic strain $\\tensor{E}_{e}$ and the temperature $\\theta$. This decomposition is physically appealing because the function ${\\varphi}_{e}$ can be taken as one of the\n",
    "well-known strain energy functions of the isothermal finite-strain elasticity, except that the coefficients of the strain-dependent terms are the functions of temperature, while the function ${\\varphi}_{\\theta}$ can be separately adjusted in accord with experimental data for the specific heat.\n",
    "\n",
    "The time-rate of the free energy\n",
    "\n",
    "\\begin{equation}\n",
    "    \\dot{\\varphi} = \\frac{\\text{d} \\varphi \\left( \\tensor{u}, \\theta \\right)}{\\dt} = \\frac{\\partial {\\varphi}_{e}}{\\partial \\tensor{E}_{e}} : \\dot{\\tensor{E}_{e}} + \\frac{\\partial {\\varphi}_{e}}{\\partial \\theta} ~ \\dot{\\theta} + \\frac{\\text{d} \\varphi_{\\theta}}{\\dthe} ~ \\dot{\\theta}\n",
    "\\end{equation}\n",
    "\n",
    "there follows\n",
    "\n",
    "\\begin{equation}\n",
    "    \\dot{\\varphi} = \\frac{1}{\\vartheta^2} \\frac{\\partial {\\varphi}_{e}}{\\partial \\tensor{E}_{e}} : \\dot{\\tensor{E}_{e}} - \\left[ \\frac{\\alpha}{\\vartheta^2} \\frac{\\partial {\\varphi}_{e}}{\\partial \\tensor{E}_{e}}: \\left( \\tensor{I} + 2 \\tensor{E} \\right) - \\frac{\\partial {\\varphi}_{e}}{\\partial \\theta} - \\frac{\\text{d} \\varphi_{\\theta}}{\\dthe} \\right] ~ \\dot{\\theta}\n",
    "\\end{equation}"
   ]
  },
  {
   "cell_type": "code",
   "execution_count": null,
   "metadata": {
    "collapsed": true
   },
   "outputs": [],
   "source": []
  },
  {
   "cell_type": "markdown",
   "metadata": {},
   "source": [
    "The comparison with the energy equation:\n",
    "\n",
    "\\begin{equation}\n",
    "    \\dot{\\varphi} = \\frac{1}{\\varrho^r} \\tensor{S} : \\dot{\\tensor{E}} - \\eta \\dot{\\theta}\n",
    "\\end{equation}\n",
    "\n",
    "establishes the constitutive relations for the symmetric second Piola–Kirchhoff stress tensor $\\tensor{S}$ and the specific entropy $\\eta$. These\n",
    "are:\n",
    "\n",
    "\\begin{equation}\n",
    "    \\tensor{S} = \\frac{\\varrho^r}{\\vartheta^2} \\frac{\\partial {\\varphi}_{e}}{\\partial \\tensor{E}_{e}}\n",
    "\\end{equation}\n",
    "\n",
    "\\begin{equation}\n",
    "    \\eta = \\alpha \\frac{\\partial {\\varphi}_{e}}{\\partial \\tensor{E}_{e}} : \\left( \\tensor{I} + 2 \\tensor{E} \\right) - \\frac{\\partial {\\varphi}_{e}}{\\partial \\theta} - \\frac{\\text{d} \\varphi_{\\theta}}{\\dthe}\n",
    "\\end{equation}\n",
    "\n",
    "\\begin{equation}\n",
    "    \\varrho^r = \\upsilon^3 \\varrho^{\\theta}\n",
    "\\end{equation}\n",
    "\n",
    "\\begin{equation}\n",
    "    \\tensor{S} = \\vartheta ~ \\tensor{S}_{e}, \\qquad \\tensor{S}_{e} = \\varrho^{\\theta} \\frac{\\partial {\\varphi}_{e}}{\\partial \\tensor{E}_{e}}\n",
    "\\end{equation}"
   ]
  },
  {
   "cell_type": "markdown",
   "metadata": {},
   "source": [
    "\\begin{equation}\n",
    "    \\varrho^{\\theta} \\frac{\\partial {\\varphi}_{e}}{\\partial \\tensor{E}_{e}} = \\frac{1}{2} \\lambda \\left( \\theta \\right) \\left( \\tr{\\tensor{E}_{e}} \\right)^{2} + \\mu \\left( \\theta \\right) ~ \\tensor{E}_{e} : \\tensor{E}_{e}\n",
    "\\end{equation}\n",
    "\n",
    "where $\\lambda \\left( \\theta \\right)$ and $\\mu \\left( \\theta \\right)$ are the temperature-dependent Lamé moduli. It follows that\n",
    "\n",
    "\\begin{equation}\n",
    "    \\tensor{S}_{e} = \\tensorfour{C} \\left( \\tensor{u}, \\theta \\right) : \\tensor{E}_{e}\n",
    "\\end{equation}\n",
    "\n",
    "into $\\tensor{S} = \\vartheta \\tensor{S}_{e}$, the stress response becomes\n",
    "\n",
    "\\begin{equation}\n",
    "    \\tensor{S} = \\frac{1}{\\vartheta} \\left[ \\lambda \\left( \\tr{\\tensor{E}} \\right) \\tensor{I} + 2 \\mu \\tensor{E} \\right] - \\frac{3}{2} \\left[ \\vartheta - \\frac{1}{\\vartheta} \\right] \\kappa \\tensor{I},\n",
    "\\end{equation}\n",
    "\n",
    "where $\\kappa$ refers to the temperature-dependent bulk modulus. This is an exact expression for the thermoelastic stress response in the case of quadratic representation of $\\varphi_e$ e in terms of the finite elastic strain $\\tensor{E}_{e}$. If the Lamé moduli are taken to be temperature-independent, and if the approximation $\\upsilon \\approx 1 + \\alpha^{r} \\left( \\theta - \\theta^{r} \\right)$ is used ($\\alpha^{r}$ o being the coefficient of linear thermal expansion at $\\theta - \\theta^{r}$), that reduces to\n",
    "\n",
    "\\begin{equation}\n",
    "    \\tensor{S} = \\lambda^{r} \\left( \\tr{\\tensor{E}} \\right) \\tensor{I} + 2 \\mu^{r} \\tensor{E} - 3 \\alpha^{r} \\left( \\theta - \\theta^{r} \\right) \\kappa^{r} \\tensor{I}\n",
    "\\end{equation}"
   ]
  },
  {
   "cell_type": "markdown",
   "metadata": {},
   "source": [
    "### Entropy expression\n",
    "\n",
    "In the case of quadratic strain energy representation, there is a relationship $\\varrho^r {\\varphi}_{e} = \\vartheta ^ 3 ~ \\tensor{S}_{e} : \\tensor{E}_{e}/2 $, so that\n",
    "\n",
    "\\begin{equation}\n",
    "    \\varrho^r \\frac{\\partial {\\varphi}_{e}}{\\partial \\theta} = \\frac{3}{2} \\vartheta^2 \\frac{\\text{d} \\varphi_{\\theta}}{\\dthe} \\tensor{S}_{e} : \\tensor{E}_{e} + \\frac{1}{2} \\vartheta^3 \\frac{\\partial \\tensor{S}_{e}}{\\partial \\theta} : \\tensor{E}_{e}\n",
    "\\end{equation}\n",
    "\n",
    "\\begin{equation}\n",
    "    \\varrho^r \\frac{\\partial {\\varphi}_{e}}{\\partial \\theta} = \\frac{3}{2} \\alpha \\left[ \\tensor{S} : \\tensor{E} - \\frac{1}{2} \\left( \\vartheta^2 - 1 \\right) ~ \\tr{\\tensor{S}} \\right] + \\frac{1}{2} \\vartheta^3 \\frac{\\partial {\\tensor{S}}_{e}}{\\partial \\theta} : \\tensor{E}_{e}\n",
    "\\end{equation} \n",
    "\n",
    "The coefficient of thermal expansion $\\alpha$ can be readily verified that\n",
    "\n",
    "\\begin{equation}\n",
    "    \\vartheta \\frac{\\partial {\\tensor{S}}_{e}}{\\partial \\theta} = \\frac{\\partial {\\tensor{S}}}{\\partial \\theta} + \\alpha \\left( \\tensor{S} + 3 \\vartheta \\kappa \\tensor{I} \\right)\n",
    "\\end{equation}\n",
    "\n",
    "\\begin{equation}\n",
    "    \\vartheta^{3} \\frac{\\partial {\\tensor{S}}_{e}}{\\partial \\theta} : \\tensor{E}_{e} = \\frac{\\partial {\\tensor{S}}}{\\partial \\theta} : \\left[ \\tensor{E} - \\frac{\\left( \\vartheta^{2} - 1 \\right)}{2} ~ \\tensor{I} \\right] + \\alpha \\left[ \\tensor{S} : \\tensor{E} + \\frac{\\left( 1 + \\vartheta^{2} \\right)}{2} \\tr{\\tensor{S}} \\right]\n",
    "\\end{equation}\n",
    "\n",
    "\\begin{equation}\n",
    "    \\varrho^r \\frac{\\partial {\\varphi}_{e}}{\\partial \\theta} = 2 \\alpha ~ \\tensor{S} : \\tensor{E} + \\frac{\\alpha \\left( 2 - \\vartheta^{2} \\right)}{2} \\tr{\\tensor{S}} + \\frac{1}{2} \\frac{\\partial {\\tensor{S}}}{\\partial \\theta} : \\left[ \\tensor{E} - \\frac{\\left( \\vartheta^{2} - 1 \\right)}{2} ~ \\tensor{I} \\right]\n",
    "\\end{equation}\n",
    "\n",
    "\\begin{equation}\n",
    "    \\eta = \\frac{1}{2 \\varrho^r} \\left[ 3 \\vartheta \\alpha \\kappa \\tensor{I} - \\frac{\\partial {\\tensor{S}}}{\\partial \\theta} \\right] : \\left[ \\tensor{E} - \\frac{\\left( \\vartheta^{2} - 1 \\right)}{2} ~ \\tensor{I} \\right] - \\frac{\\text{d} \\varphi_{\\theta}}{\\dthe}\n",
    "\\end{equation}\n",
    " \n",
    "Recalling the standard expression for the latent heat $\\tensor{\\varepsilon}$, we finally have\n",
    "\n",
    "\\begin{equation}\n",
    "    \\eta = \\frac{1}{2} \\left( \\frac{\\tensor{\\varepsilon}}{\\theta} + \\frac{\\vartheta \\alpha \\kappa}{\\varrho^r} \\tensor{I} \\right) : \\left( \\tensor{E} - \\frac{\\left( \\vartheta^{2} - 1 \\right)}{2} ~ \\tensor{I} \\right) - \\frac{\\text{d} \\varphi_{\\theta}}{\\dthe}\n",
    "\\end{equation}\n",
    "\n",
    "This is an exact expression for the entropy $\\eta$ within the approximation used for the elastic strain energy function. The second-order tensor of the latent heat $\\tensor{\\varepsilon}$ can be calculated as\n",
    "\n",
    "\\begin{equation}\n",
    "    \\tensor{\\varepsilon} = - \\frac{\\theta}{\\varrho^r} \\frac{\\partial {\\tensor{S}}}{\\partial \\theta} = - \\frac{\\theta}{\\varrho^r} \\left( \\vartheta \\frac{\\partial {\\tensor{S}}}{\\partial \\theta} -\\alpha \\left( \\tensor{S} + 3 \\vartheta \\kappa \\tensor{I} \\right) \\right)\n",
    "\\end{equation}\n",
    "\n",
    "which gives\n",
    "\n",
    "\\begin{equation}\n",
    "    \\tensor{\\varepsilon} =  \\frac{\\theta}{\\varrho^r} \\left( \\alpha \\left( \\tensor{S} + 3 \\vartheta \\kappa \\tensor{I} \\right) - \\frac{1}{\\vartheta} \\frac{\\text{d} \\tensorfour{C}}{\\dthe} : \\left( \\tensor{E} - \\frac{\\left( \\vartheta^{2} - 1 \\right)}{2} ~ \\tensor{I} \\right) \\right)\n",
    "\\end{equation}"
   ]
  },
  {
   "cell_type": "markdown",
   "metadata": {
    "collapsed": true
   },
   "source": [
    "If the elastic moduli are independent of the temperature, and if the stress components are much smaller than the elastic bulk modulus, then the specific heat becomes $\\tensor{\\varepsilon} = 3 \\vartheta \\alpha \\theta \\kappa \\tensor{I} / {\\varrho^r}$, while the entropy expression reduces to\n",
    "\n",
    "\\begin{equation}\n",
    "    \\eta = \\frac{3}{\\varrho^r} \\vartheta \\alpha \\kappa \\left( \\tr{\\tensor{E}} - \\frac{3}{2} \\left( \\vartheta^2 - 1 \\right) \\right) - \\frac{\\text{d} \\varphi_{\\theta}}{\\dthe}\n",
    "\\end{equation}\n",
    "\n",
    "The function $\\varphi_{\\theta}$ can be selected according to experimental data for the specific heat $c_{E} = \\theta \\partial \\eta / \\partial \\theta$. For example, if we take\n",
    "\n",
    "\\begin{equation}\n",
    "    \\varphi_{\\theta} = -\\frac{1}{2} \\left( \\frac{c_{E}}{\\theta^r} + \\frac{9 \\left( \\alpha^r \\right)^2 \\kappa^r}{\\varrho^r} \\right) \\left( \\theta - \\theta^r \\right)^2\n",
    "\\end{equation}\n",
    "\n",
    "then becomes\n",
    "\n",
    "\\begin{equation}\n",
    "    \\eta = \\frac{3}{\\varrho^r} \\alpha^r \\kappa^r \\tr{\\tensor{E}} + \\frac{c_{E}}{\\theta^r} \\left( \\theta - \\theta^r \\right)\n",
    "\\end{equation}\n",
    "\n",
    "which is in agreement with the classical result from the linearized theory of thermoelasticity. The approximations $\\alpha \\approx \\alpha^r$ and $\\vartheta \\approx 1 + \\alpha^r \\left( \\theta - \\theta^r \\right)$ are used in the above derivation."
   ]
  },
  {
   "cell_type": "code",
   "execution_count": null,
   "metadata": {
    "collapsed": true
   },
   "outputs": [],
   "source": []
  }
 ],
 "metadata": {
  "kernelspec": {
   "display_name": "Python 2",
   "language": "python",
   "name": "python2"
  },
  "language_info": {
   "codemirror_mode": {
    "name": "ipython",
    "version": 2
   },
   "file_extension": ".py",
   "mimetype": "text/x-python",
   "name": "python",
   "nbconvert_exporter": "python",
   "pygments_lexer": "ipython2",
   "version": "2.7.13"
  }
 },
 "nbformat": 4,
 "nbformat_minor": 1
}
